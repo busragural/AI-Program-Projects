{
  "cells": [
    {
      "cell_type": "code",
      "execution_count": null,
      "id": "7b05160e",
      "metadata": {
        "id": "7b05160e"
      },
      "outputs": [],
      "source": [
        "import matplotlib.pyplot as plt\n",
        "import pandas as pd\n",
        "import numpy as np"
      ]
    },
    {
      "cell_type": "markdown",
      "id": "da48a752",
      "metadata": {
        "id": "da48a752"
      },
      "source": [
        "# Soru 1"
      ]
    },
    {
      "cell_type": "markdown",
      "id": "5561e2c9",
      "metadata": {
        "id": "5561e2c9"
      },
      "source": [
        "Bir astronot, Dünya'dan ışık yılı uzakta bulunan bir yıldız sistemini keşfetti. Yıldız sistemindeki iki gezegenin konumunu birer Numpy dizisi olarak kaydetti. Astronot, gezegenler arasındaki mesafeyi Euclidean mesafesi kullanarak hesaplamak istiyor. Bir program yazın ve gezegenler arasındaki mesafeyi hesaplayın.\n",
        "\n",
        "Açıklama:\n",
        "\n",
        "          Birinci Gezegen Konumu: x1,y1,z1, İkinci Gezegen Konumu: x2,y2,z2 şeklindedir.\n",
        "\n",
        "          Euclidean mesafesini hesaplamak için aşağıdaki verilen denkleme göre fonksiyon yazınız.\n",
        "          \n",
        "          Yazmış olduğunuz programı değerler girerek test ediniz.  \n",
        "          \n",
        "Euclidean mesafesi:\n",
        "\\begin{equation}\n",
        "\\sqrt((x1-x2)^2 + (y1-y2)^2 + (z1-z2)^2)\n",
        "\\end{equation}\n"
      ]
    },
    {
      "cell_type": "markdown",
      "id": "88c2da93",
      "metadata": {
        "id": "88c2da93"
      },
      "source": [
        "# Cevap 1"
      ]
    },
    {
      "cell_type": "code",
      "execution_count": null,
      "id": "40028223",
      "metadata": {
        "colab": {
          "base_uri": "https://localhost:8080/"
        },
        "id": "40028223",
        "outputId": "ab250109-1072-44cf-c6b6-53636722f55d"
      },
      "outputs": [
        {
          "output_type": "stream",
          "name": "stdout",
          "text": [
            "Birinci Gezegen x koordinatı: 3.6\n",
            "Birinci Gezegen y koordinatı: 4.2\n",
            "Birinci Gezegen z koordinatı: 5.1\n",
            "İkinci Gezegen x koordinatı: 2.4\n",
            "İkinci Gezegen y koordinatı: 2.1\n",
            "İkinci Gezegen z koordinatı: 5.1\n",
            "Gezegenler arasındaki Euclidean mesafesi: 2.418677324489565\n"
          ]
        }
      ],
      "source": [
        "def euclidean_distance(planet1, planet2):\n",
        "    x1, y1, z1 = planet1\n",
        "    x2, y2, z2 = planet2\n",
        "    distance = np.sqrt((x1 - x2)**2 + (y1 - y2)**2 + (z1 - z2)**2)\n",
        "    return distance\n",
        "\n",
        "x1 = float(input(\"Birinci Gezegen x koordinatı: \"))\n",
        "y1 = float(input(\"Birinci Gezegen y koordinatı: \"))\n",
        "z1 = float(input(\"Birinci Gezegen z koordinatı: \"))\n",
        "\n",
        "x2 = float(input(\"İkinci Gezegen x koordinatı: \"))\n",
        "y2 = float(input(\"İkinci Gezegen y koordinatı: \"))\n",
        "z2 = float(input(\"İkinci Gezegen z koordinatı: \"))\n",
        "\n",
        "planet1 = np.array([x1, y1, z1])\n",
        "planet2 = np.array([x2, y2, z2])\n",
        "distance = euclidean_distance(planet1, planet2)\n",
        "\n",
        "print(f\"Gezegenler arasındaki Euclidean mesafesi: {distance}\")\n"
      ]
    },
    {
      "cell_type": "markdown",
      "id": "43e47693",
      "metadata": {
        "id": "43e47693"
      },
      "source": [
        "# Soru 2"
      ]
    },
    {
      "cell_type": "markdown",
      "id": "ae308d47",
      "metadata": {
        "id": "ae308d47"
      },
      "source": [
        "Akciğer kanseri nedenleri ile ilgili araştırma yapılmak istenmektedir. Bu sebeple hastalardan veriler toplanmakta ve \"cancer patient data sets\" isimli veri seti oluşturulmaktadır. Bu veri setindeki değerler Pandas kütüphanesi kullanılarak analiz edilmesi istenmektedir."
      ]
    },
    {
      "cell_type": "code",
      "execution_count": null,
      "id": "098b165a",
      "metadata": {
        "id": "098b165a"
      },
      "outputs": [],
      "source": [
        "#Veri setini import edin."
      ]
    },
    {
      "cell_type": "code",
      "execution_count": null,
      "id": "84856656",
      "metadata": {
        "colab": {
          "base_uri": "https://localhost:8080/"
        },
        "id": "84856656",
        "outputId": "ca2341e6-83bd-4090-9c69-41610c11af97"
      },
      "outputs": [
        {
          "output_type": "stream",
          "name": "stdout",
          "text": [
            "     index Patient Id  Age  Gender  Air Pollution  Alcohol use  Dust Allergy  \\\n",
            "0        0         P1   33       1              2            4             5   \n",
            "1        1        P10   17       1              3            1             5   \n",
            "2        2       P100   35       1              4            5             6   \n",
            "3        3      P1000   37       1              7            7             7   \n",
            "4        4       P101   46       1              6            8             7   \n",
            "..     ...        ...  ...     ...            ...          ...           ...   \n",
            "995    995       P995   44       1              6            7             7   \n",
            "996    996       P996   37       2              6            8             7   \n",
            "997    997       P997   25       2              4            5             6   \n",
            "998    998       P998   18       2              6            8             7   \n",
            "999    999       P999   47       1              6            5             6   \n",
            "\n",
            "     OccuPational Hazards  Genetic Risk  chronic Lung Disease  ...  Fatigue  \\\n",
            "0                       4             3                     2  ...        3   \n",
            "1                       3             4                     2  ...        1   \n",
            "2                       5             5                     4  ...        8   \n",
            "3                       7             6                     7  ...        4   \n",
            "4                       7             7                     6  ...        3   \n",
            "..                    ...           ...                   ...  ...      ...   \n",
            "995                     7             7                     6  ...        5   \n",
            "996                     7             7                     6  ...        9   \n",
            "997                     5             5                     4  ...        8   \n",
            "998                     7             7                     6  ...        3   \n",
            "999                     5             5                     4  ...        8   \n",
            "\n",
            "     Weight Loss  Shortness of Breath  Wheezing  Swallowing Difficulty  \\\n",
            "0              4                    2         2                      3   \n",
            "1              3                    7         8                      6   \n",
            "2              7                    9         2                      1   \n",
            "3              2                    3         1                      4   \n",
            "4              2                    4         1                      4   \n",
            "..           ...                  ...       ...                    ...   \n",
            "995            3                    2         7                      8   \n",
            "996            6                    5         7                      2   \n",
            "997            7                    9         2                      1   \n",
            "998            2                    4         1                      4   \n",
            "999            7                    9         2                      1   \n",
            "\n",
            "     Clubbing of Finger Nails  Frequent Cold  Dry Cough  Snoring   Level  \n",
            "0                           1              2          3        4     Low  \n",
            "1                           2              1          7        2  Medium  \n",
            "2                           4              6          7        2    High  \n",
            "3                           5              6          7        5    High  \n",
            "4                           2              4          2        3    High  \n",
            "..                        ...            ...        ...      ...     ...  \n",
            "995                         2              4          5        3    High  \n",
            "996                         4              3          1        4    High  \n",
            "997                         4              6          7        2    High  \n",
            "998                         2              4          2        3    High  \n",
            "999                         4              6          7        2    High  \n",
            "\n",
            "[1000 rows x 26 columns]\n"
          ]
        }
      ],
      "source": [
        "file_path = '/content/drive/MyDrive/Colab Notebooks/cancer_patient_data_sets.csv'\n",
        "# DataFrame\n",
        "df = pd.read_csv(file_path)\n",
        "print(df)\n"
      ]
    },
    {
      "cell_type": "code",
      "execution_count": null,
      "id": "849e03fe",
      "metadata": {
        "id": "849e03fe"
      },
      "outputs": [],
      "source": [
        "#Veri setinde sütunları bulunuz."
      ]
    },
    {
      "cell_type": "code",
      "execution_count": null,
      "id": "1fa8e0ac",
      "metadata": {
        "colab": {
          "base_uri": "https://localhost:8080/"
        },
        "id": "1fa8e0ac",
        "outputId": "95c3c3d1-92cd-4d33-92ba-ff6967b62d76"
      },
      "outputs": [
        {
          "output_type": "stream",
          "name": "stdout",
          "text": [
            "Veri Setindeki Sütunlar:\n",
            "Index(['index', 'Patient Id', 'Age', 'Gender', 'Air Pollution', 'Alcohol use',\n",
            "       'Dust Allergy', 'OccuPational Hazards', 'Genetic Risk',\n",
            "       'chronic Lung Disease', 'Balanced Diet', 'Obesity', 'Smoking',\n",
            "       'Passive Smoker', 'Chest Pain', 'Coughing of Blood', 'Fatigue',\n",
            "       'Weight Loss', 'Shortness of Breath', 'Wheezing',\n",
            "       'Swallowing Difficulty', 'Clubbing of Finger Nails', 'Frequent Cold',\n",
            "       'Dry Cough', 'Snoring', 'Level'],\n",
            "      dtype='object')\n"
          ]
        }
      ],
      "source": [
        "columns = df.columns\n",
        "print(\"Veri Setindeki Sütunlar:\")\n",
        "print(columns)"
      ]
    },
    {
      "cell_type": "code",
      "execution_count": null,
      "id": "a7e4b78c",
      "metadata": {
        "id": "a7e4b78c"
      },
      "outputs": [],
      "source": [
        "#Gender'a göre grouplama yapınız ve toplamlarını bulunuz."
      ]
    },
    {
      "cell_type": "code",
      "execution_count": null,
      "id": "c4b67b68",
      "metadata": {
        "colab": {
          "base_uri": "https://localhost:8080/"
        },
        "id": "c4b67b68",
        "outputId": "e6ac18cf-f908-4578-9bb5-fdaeac192d5a"
      },
      "outputs": [
        {
          "output_type": "stream",
          "name": "stdout",
          "text": [
            "Cinsiyet Dağılımı:\n",
            "1    598\n",
            "2    402\n",
            "Name: Gender, dtype: int64\n"
          ]
        }
      ],
      "source": [
        "\"\"\"\n",
        "# 'Gender' sütununa göre gruplama ve diğer sütunların toplamlarını bulma\n",
        "gender_totals = df.groupby('Gender').sum()\n",
        "\n",
        "print(\"Gender'a Göre Toplamlar:\")\n",
        "print(gender_totals)\n",
        "\"\"\"\n",
        "\n",
        "gender_counts = df['Gender'].value_counts()\n",
        "print(\"Cinsiyet Dağılımı:\")\n",
        "print(gender_counts)\n"
      ]
    },
    {
      "cell_type": "markdown",
      "id": "58e1f150",
      "metadata": {
        "id": "58e1f150"
      },
      "source": [
        "## Soru 2-1"
      ]
    },
    {
      "cell_type": "markdown",
      "id": "e10c1f5a",
      "metadata": {
        "id": "e10c1f5a"
      },
      "source": [
        "1 numaralı Gender'ın 2 numaralı Gender'a göre toplam Genetic Risk durum oranını bulunuz."
      ]
    },
    {
      "cell_type": "markdown",
      "id": "b773a50e",
      "metadata": {
        "id": "b773a50e"
      },
      "source": [
        "## Cevap 2-1"
      ]
    },
    {
      "cell_type": "code",
      "execution_count": null,
      "id": "3a121f04",
      "metadata": {
        "colab": {
          "base_uri": "https://localhost:8080/"
        },
        "id": "3a121f04",
        "outputId": "ec59ee70-60b9-4a37-d78d-5e8bdde056d1"
      },
      "outputs": [
        {
          "output_type": "stream",
          "name": "stdout",
          "text": [
            "1'in 2'ye Göre Genetic Risk Durum Oranı: 1.8464885021752642\n"
          ]
        }
      ],
      "source": [
        "genetic_risk= df.groupby('Gender')['Genetic Risk'].sum()\n",
        "genetic_risk_ratio = genetic_risk[1] / genetic_risk[2]\n",
        "print(\"1'in 2'ye Göre Genetic Risk Durum Oranı:\", genetic_risk_ratio)\n"
      ]
    },
    {
      "cell_type": "markdown",
      "id": "cfe3afad",
      "metadata": {
        "id": "cfe3afad"
      },
      "source": [
        "## Soru 2-2"
      ]
    },
    {
      "cell_type": "markdown",
      "id": "319c1ff0",
      "metadata": {
        "id": "319c1ff0"
      },
      "source": [
        "30 yaşından büyük Low Level hastaların Dry Cough toplamı ile 30 yaşından büyük High Level hastaların Dry Cough toplamı oranını bulunuz."
      ]
    },
    {
      "cell_type": "markdown",
      "id": "6895a3b4",
      "metadata": {
        "id": "6895a3b4"
      },
      "source": [
        "## Cevap 2-2"
      ]
    },
    {
      "cell_type": "code",
      "execution_count": null,
      "id": "b2e3b6b4",
      "metadata": {
        "colab": {
          "base_uri": "https://localhost:8080/"
        },
        "id": "b2e3b6b4",
        "outputId": "91ce8498-3311-4e32-9b43-f7e1df34ab61"
      },
      "outputs": [
        {
          "output_type": "stream",
          "name": "stdout",
          "text": [
            "oran: 0.3686635944700461\n"
          ]
        }
      ],
      "source": [
        "patients_over_30 = df[df['Age'] > 30]\n",
        "\n",
        "low_level= patients_over_30[patients_over_30['Level'] == 'Low']['Dry Cough'].sum()\n",
        "high_level= patients_over_30[patients_over_30['Level'] == 'High']['Dry Cough'].sum()\n",
        "\n",
        "ratio = low_level / high_level\n",
        "\n",
        "print(\"oran:\", ratio)\n"
      ]
    },
    {
      "cell_type": "markdown",
      "id": "6b98f08e",
      "metadata": {
        "id": "6b98f08e"
      },
      "source": [
        "## Soru 2-3"
      ]
    },
    {
      "cell_type": "markdown",
      "id": "9185a35c",
      "metadata": {
        "id": "9185a35c"
      },
      "source": [
        "İlgili veri setinde hastalığa sebep olan baskın öznitelikler çıkarılmaktadır.\n",
        "\n",
        "Bu öznitelikler sırasıyla\n",
        "\n",
        "a: Air Pollution, b: Alcohol use, c: Smoking, d: Genetic Risk olarak bulunmuştur.   \n",
        "\n",
        "y = 2 * a + 3 * b + 4 * c + d şeklinde bir fonksiyon yazılarak ilgili hasta için y risk değeri hesaplanmaktadır.\n",
        "\n",
        "y risk değeri 50'den büyük olan hastaların Patient Id'lerini bulunuz."
      ]
    },
    {
      "cell_type": "markdown",
      "id": "bc50cceb",
      "metadata": {
        "id": "bc50cceb"
      },
      "source": [
        "## Cevap 2-3"
      ]
    },
    {
      "cell_type": "code",
      "execution_count": null,
      "id": "a70e29d3",
      "metadata": {
        "colab": {
          "base_uri": "https://localhost:8080/"
        },
        "id": "a70e29d3",
        "outputId": "84b3624d-24a1-4f22-c800-ee3d8bf4ed62"
      },
      "outputs": [
        {
          "output_type": "stream",
          "name": "stdout",
          "text": [
            "Patient Id'leri:\n",
            "3      P1000\n",
            "4       P101\n",
            "8       P105\n",
            "10      P107\n",
            "11      P108\n",
            "       ...  \n",
            "993     P993\n",
            "994     P994\n",
            "995     P995\n",
            "996     P996\n",
            "998     P998\n",
            "Name: Patient Id, Length: 325, dtype: object\n"
          ]
        }
      ],
      "source": [
        "# Risk fonksiyonu\n",
        "def calculate_risk(row):\n",
        "    a = row['Air Pollution']\n",
        "    b = row['Alcohol use']\n",
        "    c = row['Smoking']\n",
        "    d = row['Genetic Risk']\n",
        "\n",
        "    return 2*a + 3*b + 4*c + d\n",
        "\n",
        "df['Risk'] = df.apply(calculate_risk, axis=1)\n",
        "\n",
        "high_risk_patients = df[df['Risk'] > 50]['Patient Id']\n",
        "\n",
        "print(\"Patient Id'leri:\")\n",
        "print(high_risk_patients)\n"
      ]
    },
    {
      "cell_type": "markdown",
      "id": "ce883ea1",
      "metadata": {
        "id": "ce883ea1"
      },
      "source": [
        "## Soru 2-4"
      ]
    },
    {
      "cell_type": "markdown",
      "id": "65e4ac11",
      "metadata": {
        "id": "65e4ac11"
      },
      "source": [
        "Cinsiyete (Gender) göre gruplama yaparak plotbar() fonksiyonu ile 1 ve 2 numaralı Gender için kansere sebep olan Air Pollution, Obesity, Smoking ve Snooring faktörlerinin toplamlarını aynı grafik üzerinde çizdiriniz.\n",
        "\n",
        "Dikkat: Grafik ismini, axes isimlerini, legend isimlerini yazmayı unutmayalım."
      ]
    },
    {
      "cell_type": "markdown",
      "id": "f13f886f",
      "metadata": {
        "id": "f13f886f"
      },
      "source": [
        "## Cevap 2-4"
      ]
    },
    {
      "cell_type": "code",
      "execution_count": null,
      "id": "6416cc47",
      "metadata": {
        "colab": {
          "base_uri": "https://localhost:8080/",
          "height": 527
        },
        "id": "6416cc47",
        "outputId": "1a0a074f-3c81-4ac8-9ee2-76937612f794"
      },
      "outputs": [
        {
          "output_type": "stream",
          "name": "stderr",
          "text": [
            "<ipython-input-25-ca580b9370f8>:4: FutureWarning: The default value of numeric_only in DataFrameGroupBy.sum is deprecated. In a future version, numeric_only will default to False. Either specify numeric_only or select only columns which should be valid for the function.\n",
            "  gender_grouped = df.groupby('Gender').sum()\n"
          ]
        },
        {
          "output_type": "display_data",
          "data": {
            "text/plain": [
              "<Figure size 640x480 with 1 Axes>"
            ],
            "image/png": "[encoded data removed]"
          },
          "metadata": {}
        }
      ],
      "source": [
        "# grupla\n",
        "gender_grouped = df.groupby('Gender').sum()\n",
        "factors = ['Air Pollution', 'Obesity', 'Smoking', 'Snoring']\n",
        "\n",
        "ax = gender_grouped.loc[[1, 2], factors].plot.bar(rot=0)\n",
        "\n",
        "ax.set_title('Kansere Sebep Olan Faktörlerin Toplamları')\n",
        "ax.set_xlabel('Cinsiyet')\n",
        "ax.set_ylabel('Toplam Faktör Değeri')\n",
        "ax.legend(['Air Pollution', 'Obesity', 'Smoking', 'Snoring'])\n",
        "plt.show()\n"
      ]
    }
  ],
  "metadata": {
    "kernelspec": {
      "display_name": "Python 3 (ipykernel)",
      "language": "python",
      "name": "python3"
    },
    "language_info": {
      "codemirror_mode": {
        "name": "ipython",
        "version": 3
      },
      "file_extension": ".py",
      "mimetype": "text/x-python",
      "name": "python",
      "nbconvert_exporter": "python",
      "pygments_lexer": "ipython3",
      "version": "3.9.12"
    },
    "colab": {
      "provenance": []
    }
  },
  "nbformat": 4,
  "nbformat_minor": 5
}